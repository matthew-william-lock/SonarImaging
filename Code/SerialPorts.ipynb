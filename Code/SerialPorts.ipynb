{
 "cells": [
  {
   "cell_type": "markdown",
   "metadata": {},
   "source": [
    "# Julia Serial Connection\n",
    "## SerialPorts"
   ]
  },
  {
   "cell_type": "code",
   "execution_count": 117,
   "metadata": {},
   "outputs": [
    {
     "data": {
      "text/plain": [
       "33-element Array{String,1}:\n",
       " \"/dev/ttyACM23\"\n",
       " \"/dev/ttyS0\"   \n",
       " \"/dev/ttyS1\"   \n",
       " \"/dev/ttyS10\"  \n",
       " \"/dev/ttyS11\"  \n",
       " \"/dev/ttyS12\"  \n",
       " \"/dev/ttyS13\"  \n",
       " \"/dev/ttyS14\"  \n",
       " \"/dev/ttyS15\"  \n",
       " \"/dev/ttyS16\"  \n",
       " \"/dev/ttyS17\"  \n",
       " \"/dev/ttyS18\"  \n",
       " \"/dev/ttyS19\"  \n",
       " ⋮              \n",
       " \"/dev/ttyS27\"  \n",
       " \"/dev/ttyS28\"  \n",
       " \"/dev/ttyS29\"  \n",
       " \"/dev/ttyS3\"   \n",
       " \"/dev/ttyS30\"  \n",
       " \"/dev/ttyS31\"  \n",
       " \"/dev/ttyS4\"   \n",
       " \"/dev/ttyS5\"   \n",
       " \"/dev/ttyS6\"   \n",
       " \"/dev/ttyS7\"   \n",
       " \"/dev/ttyS8\"   \n",
       " \"/dev/ttyS9\"   "
      ]
     },
     "execution_count": 117,
     "metadata": {},
     "output_type": "execute_result"
    }
   ],
   "source": [
    "using SerialPorts\n",
    "list_serialports()"
   ]
  },
  {
   "cell_type": "markdown",
   "metadata": {},
   "source": [
    "## Open the serial connection"
   ]
  },
  {
   "cell_type": "code",
   "execution_count": 118,
   "metadata": {},
   "outputs": [
    {
     "data": {
      "text/plain": [
       "SerialPort(\"/dev/ttyACM23\", 9600, 8, \"N\", 1, nothing, false, false, false, PyObject Serial<id=0x7fe964484160, open=True>(port='/dev/ttyACM23', baudrate=9600, bytesize=8, parity='N', stopbits=1, timeout=None, xonxoff=False, rtscts=False, dsrdtr=False))"
      ]
     },
     "execution_count": 118,
     "metadata": {},
     "output_type": "execute_result"
    }
   ],
   "source": [
    "ser=SerialPort(\"/dev/ttyACM23\", 9600)"
   ]
  },
  {
   "cell_type": "code",
   "execution_count": 119,
   "metadata": {},
   "outputs": [
    {
     "data": {
      "text/plain": [
       "SerialPort(\"/dev/ttyACM23\", 9600, 8, \"N\", 1, nothing, false, false, false, PyObject Serial<id=0x7fe964484160, open=False>(port='/dev/ttyACM23', baudrate=9600, bytesize=8, parity='N', stopbits=1, timeout=None, xonxoff=False, rtscts=False, dsrdtr=False))"
      ]
     },
     "execution_count": 119,
     "metadata": {},
     "output_type": "execute_result"
    }
   ],
   "source": [
    "close(ser)"
   ]
  },
  {
   "cell_type": "markdown",
   "metadata": {},
   "source": [
    "To send a command\n",
    "\n",
    "- clear the buffer\n",
    "- write command with ser.write('c')\n",
    "- wait for a response.\n",
    "\n",
    "To read back the response for a short response, like the time taken message returned by 't'\n",
    "\n",
    "- Use ser.read_all()\n",
    "\n",
    "To read back the response when the micro needs to send lots of data\n",
    "\n",
    "- Use ser.readline() or ser.read() in a loop. If you read fast enough, you can empty the buffer prematurely so\n",
    "- check if the bufer is empty, and if it is, wait and check again before exiting the loop. If not\n",
    "- Keep reading until the buffer stays empty"
   ]
  },
  {
   "cell_type": "markdown",
   "metadata": {},
   "source": [
    "## Reading and sending 20k samples"
   ]
  },
  {
   "cell_type": "code",
   "execution_count": 11,
   "metadata": {},
   "outputs": [
    {
     "name": "stdout",
     "output_type": "stream",
     "text": [
      "Command Sent\n",
      "Finished Reading\n",
      "Sample complete\n",
      "194"
     ]
    }
   ],
   "source": [
    "a = \"\" # Keep bytes as a string\n",
    "i = 0\n",
    "b=\"\"\n",
    "\n",
    "# clear buffer\n",
    "while bytesavailable(ser) > 0\n",
    "    r = readavailable(ser)\n",
    "end  \n",
    "\n",
    "r = readavailable(ser) # clear serial buffer\n",
    "# Get the values\n",
    "write(ser,\"b\") # See code for command meanings\n",
    "println(\"Command Sent\")\n",
    "\n",
    "while bytesavailable(ser) < 1\n",
    "    continue # wait for a response\n",
    "end  \n",
    "\n",
    "while true\n",
    "    if bytesavailable(ser) < 1\n",
    "        sleep(0.005) # Wait and check again\n",
    "        if bytesavailable(ser) < 1\n",
    "            println(\"Finished Reading\")\n",
    "            break\n",
    "        end\n",
    "    end\n",
    "    b = readavailable(ser) # Using read() is much slower due to extra delays\n",
    "    a = string(a,b)\n",
    "    i += 1    \n",
    "end\n",
    "\n",
    "println(\"Sample complete\")\n",
    "    \n",
    "print(length(a)) # Should be 20000 readings, 2 bytes per reading (so 40k bytes)"
   ]
  },
  {
   "cell_type": "code",
   "execution_count": 8,
   "metadata": {},
   "outputs": [
    {
     "data": {
      "text/plain": [
       "\"\""
      ]
     },
     "execution_count": 8,
     "metadata": {},
     "output_type": "execute_result"
    }
   ],
   "source": [
    "b"
   ]
  },
  {
   "cell_type": "code",
   "execution_count": 57,
   "metadata": {},
   "outputs": [
    {
     "ename": "Base.InvalidCharError{Char}",
     "evalue": "Base.InvalidCharError{Char}('\\xaa')",
     "output_type": "error",
     "traceback": [
      "Base.InvalidCharError{Char}('\\xaa')",
      "",
      "Stacktrace:",
      " [1] invalid_char(::Char) at ./char.jl:85",
      " [2] Type at ./char.jl:130 [inlined]",
      " [3] Int8(::Char) at ./char.jl:171",
      " [4] top-level scope at ./In[57]:4"
     ]
    }
   ],
   "source": [
    "N = length(a)\n",
    "x=zeros(Int8,N)\n",
    "for n = 1:N\n",
    "    x[n]=(Int8(a[n]))\n",
    "end"
   ]
  },
  {
   "cell_type": "code",
   "execution_count": 48,
   "metadata": {},
   "outputs": [
    {
     "data": {
      "text/plain": [
       "1"
      ]
     },
     "execution_count": 48,
     "metadata": {},
     "output_type": "execute_result"
    }
   ],
   "source": [
    "write(ser,\"b\")"
   ]
  },
  {
   "cell_type": "code",
   "execution_count": 49,
   "metadata": {},
   "outputs": [
    {
     "data": {
      "text/plain": [
       "200"
      ]
     },
     "execution_count": 49,
     "metadata": {},
     "output_type": "execute_result"
    }
   ],
   "source": [
    "bytesavailable(ser)"
   ]
  },
  {
   "cell_type": "code",
   "execution_count": 304,
   "metadata": {},
   "outputs": [
    {
     "data": {
      "text/plain": [
       "0"
      ]
     },
     "execution_count": 304,
     "metadata": {},
     "output_type": "execute_result"
    }
   ],
   "source": [
    "bytesavailable(ser)"
   ]
  },
  {
   "cell_type": "code",
   "execution_count": 14,
   "metadata": {},
   "outputs": [
    {
     "data": {
      "text/plain": [
       "1"
      ]
     },
     "execution_count": 14,
     "metadata": {},
     "output_type": "execute_result"
    }
   ],
   "source": [
    "write(ser,\"x\")"
   ]
  },
  {
   "cell_type": "code",
   "execution_count": 66,
   "metadata": {},
   "outputs": [
    {
     "data": {
      "text/plain": [
       "0"
      ]
     },
     "execution_count": 66,
     "metadata": {},
     "output_type": "execute_result"
    }
   ],
   "source": [
    "bytesavailable(ser)"
   ]
  },
  {
   "cell_type": "code",
   "execution_count": 65,
   "metadata": {},
   "outputs": [
    {
     "data": {
      "text/plain": [
       "\"\""
      ]
     },
     "execution_count": 65,
     "metadata": {},
     "output_type": "execute_result"
    }
   ],
   "source": [
    "r = readavailable(ser)"
   ]
  },
  {
   "cell_type": "markdown",
   "metadata": {},
   "source": [
    "## Echo Back"
   ]
  },
  {
   "cell_type": "code",
   "execution_count": 10,
   "metadata": {
    "scrolled": true
   },
   "outputs": [
    {
     "name": "stdout",
     "output_type": "stream",
     "text": [
      "Bytes written 101\n",
      "Bytes available:101\n",
      "Recieved string \u0000\u0001\u0002\u0003\u0004\u0005\u0006\t\n",
      "\u000e\u000f\u0010\u0011\u0012\u0013\u0014\u0015\u0016\u0017\u0018\u0019\u001a\u001b\u001c",
      "\u001d",
      "\u001e",
      "\u001f !\"#$%&'()*+,-./0123456789:;<=>?@ABCDEFGHIJKLMNOPQRSTUVWXYZ[\\]^_`abcd\n",
      "Length of string read 101\n",
      "1 0\n",
      "2 1\n",
      "3 2\n",
      "4 3\n",
      "5 4\n",
      "6 5\n",
      "7 6\n",
      "8 7\n",
      "9 8\n",
      "10 9\n",
      "11 10\n",
      "12 11\n",
      "13 12\n",
      "14 13\n",
      "15 14\n",
      "16 15\n",
      "17 16\n",
      "18 17\n",
      "19 18\n",
      "20 19\n",
      "21 20\n",
      "22 21\n",
      "23 22\n",
      "24 23\n",
      "25 24\n",
      "26 25\n",
      "27 26\n",
      "28 27\n",
      "29 28\n",
      "30 29\n",
      "31 30\n",
      "32 31\n",
      "33 32\n",
      "34 33\n",
      "35 34\n",
      "36 35\n",
      "37 36\n",
      "38 37\n",
      "39 38\n",
      "40 39\n",
      "41 40\n",
      "42 41\n",
      "43 42\n",
      "44 43\n",
      "45 44\n",
      "46 45\n",
      "47 46\n",
      "48 47\n",
      "49 48\n",
      "50 49\n",
      "51 50\n",
      "52 51\n",
      "53 52\n",
      "54 53\n",
      "55 54\n",
      "56 55\n",
      "57 56\n",
      "58 57\n",
      "59 58\n",
      "60 59\n",
      "61 60\n",
      "62 61\n",
      "63 62\n",
      "64 63\n",
      "65 64\n",
      "66 65\n",
      "67 66\n",
      "68 67\n",
      "69 68\n",
      "70 69\n",
      "71 70\n",
      "72 71\n",
      "73 72\n",
      "74 73\n",
      "75 74\n",
      "76 75\n",
      "77 76\n",
      "78 77\n",
      "79 78\n",
      "80 79\n",
      "81 80\n",
      "82 81\n",
      "83 82\n",
      "84 83\n",
      "85 84\n",
      "86 85\n",
      "87 86\n",
      "88 87\n",
      "89 88\n",
      "90 89\n",
      "91 90\n",
      "92 91\n",
      "93 92\n",
      "94 93\n",
      "95 94\n",
      "96 95\n",
      "97 96\n",
      "98 97\n",
      "99 98\n",
      "100 99\n",
      "101 100\n"
     ]
    }
   ],
   "source": [
    "NStart=0\n",
    "NEnd=100\n",
    "#breaks at 128\n",
    "\n",
    "\n",
    "for n = NStart:NEnd\n",
    "    #a = string(\"\",n)\n",
    "    #println(\"writing \",UInt8(n))\n",
    "    write(ser,UInt8(n))\n",
    "    sleep(0.001)\n",
    "end\n",
    "sleep(0.1)\n",
    "\n",
    "BytesWritten=NEnd-NStart+1\n",
    "\n",
    "println(\"Bytes written \",BytesWritten)\n",
    "\n",
    "BytesAvailable=bytesavailable(ser)\n",
    "println(\"Bytes available:\",BytesAvailable)\n",
    "r = readavailable(ser) \n",
    "println(\"Recieved string \", r)\n",
    "\n",
    "println(\"Length of string read \",length(r))\n",
    "\n",
    "x=zeros(UInt8,BytesAvailable)\n",
    "\n",
    "for n = 1:BytesAvailable\n",
    "    print(n,\" \")\n",
    "    x[n]=(UInt8(r[n]))\n",
    "    println(x[n])\n",
    "end"
   ]
  },
  {
   "cell_type": "code",
   "execution_count": 45,
   "metadata": {},
   "outputs": [
    {
     "data": {
      "text/plain": [
       "255-element Array{UInt8,1}:\n",
       " 0x00\n",
       " 0x01\n",
       " 0x02\n",
       " 0x03\n",
       " 0x04\n",
       " 0x05\n",
       " 0x06\n",
       " 0x07\n",
       " 0x08\n",
       " 0x09\n",
       " 0x0a\n",
       " 0x0b\n",
       " 0x0c\n",
       "    ⋮\n",
       " 0x00\n",
       " 0x00\n",
       " 0x00\n",
       " 0x00\n",
       " 0x00\n",
       " 0x00\n",
       " 0x00\n",
       " 0x00\n",
       " 0x00\n",
       " 0x00\n",
       " 0x00\n",
       " 0x00"
      ]
     },
     "execution_count": 45,
     "metadata": {},
     "output_type": "execute_result"
    }
   ],
   "source": [
    "x"
   ]
  },
  {
   "cell_type": "code",
   "execution_count": 78,
   "metadata": {},
   "outputs": [],
   "source": [
    "r = readavailable(ser) \n",
    "N=100\n",
    "for n = 0:N\n",
    "    #a = string(\"\",n)\n",
    "    write(ser,UInt8(n))\n",
    "end"
   ]
  },
  {
   "cell_type": "code",
   "execution_count": 79,
   "metadata": {},
   "outputs": [
    {
     "data": {
      "text/plain": [
       "302"
      ]
     },
     "execution_count": 79,
     "metadata": {},
     "output_type": "execute_result"
    }
   ],
   "source": [
    "bytesavailable(ser)"
   ]
  },
  {
   "cell_type": "code",
   "execution_count": 30,
   "metadata": {},
   "outputs": [
    {
     "data": {
      "text/plain": [
       "SerialPort(\"/dev/ttyACM4\", 9600, 8, \"N\", 1, nothing, false, false, false, PyObject Serial<id=0x7fe9644849b0, open=False>(port='/dev/ttyACM4', baudrate=9600, bytesize=8, parity='N', stopbits=1, timeout=None, xonxoff=False, rtscts=False, dsrdtr=False))"
      ]
     },
     "execution_count": 30,
     "metadata": {},
     "output_type": "execute_result"
    }
   ],
   "source": [
    "close(ser)"
   ]
  },
  {
   "cell_type": "code",
   "execution_count": null,
   "metadata": {},
   "outputs": [],
   "source": []
  }
 ],
 "metadata": {
  "kernelspec": {
   "display_name": "Julia 1.1.1",
   "language": "julia",
   "name": "julia-1.1"
  },
  "language_info": {
   "file_extension": ".jl",
   "mimetype": "application/julia",
   "name": "julia",
   "version": "1.1.1"
  }
 },
 "nbformat": 4,
 "nbformat_minor": 2
}
