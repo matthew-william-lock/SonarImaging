{
 "cells": [
  {
   "cell_type": "markdown",
   "metadata": {},
   "source": [
    "# Julia Serial Connection"
   ]
  },
  {
   "cell_type": "code",
   "execution_count": 4,
   "metadata": {},
   "outputs": [
    {
     "name": "stdout",
     "output_type": "stream",
     "text": [
      "\u001b[32m\u001b[1m Resolving\u001b[22m\u001b[39m package versions...\n",
      "\u001b[32m\u001b[1m  Updating\u001b[22m\u001b[39m `~/.julia/environments/v1.1/Project.toml`\n",
      "\u001b[90m [no changes]\u001b[39m\n",
      "\u001b[32m\u001b[1m  Updating\u001b[22m\u001b[39m `~/.julia/environments/v1.1/Manifest.toml`\n",
      "\u001b[90m [no changes]\u001b[39m\n"
     ]
    }
   ],
   "source": [
    "using Pkg    # Use the package manager\n",
    "Pkg.add(\"LibSerialPort\")"
   ]
  },
  {
   "cell_type": "code",
   "execution_count": 8,
   "metadata": {},
   "outputs": [
    {
     "name": "stdout",
     "output_type": "stream",
     "text": [
      "/dev/ttyACM0\n",
      "\tDescription:\tUSB Serial - 5870570\n",
      "\tTransport type:\tSP_TRANSPORT_USB\n",
      "nothing"
     ]
    }
   ],
   "source": [
    "using LibSerialPort\n",
    "show(list_ports())"
   ]
  },
  {
   "cell_type": "code",
   "execution_count": 11,
   "metadata": {},
   "outputs": [
    {
     "ename": "MethodError",
     "evalue": "MethodError: no method matching SerialPort(::String, ::Int64)\nClosest candidates are:\n  SerialPort(::Any, ::Any, !Matched::Any) at /home/matthew/.julia/packages/LibSerialPort/2dlyw/src/high-level-api.jl:7\n  SerialPort(::AbstractString) at /home/matthew/.julia/packages/LibSerialPort/2dlyw/src/high-level-api.jl:18",
     "output_type": "error",
     "traceback": [
      "MethodError: no method matching SerialPort(::String, ::Int64)\nClosest candidates are:\n  SerialPort(::Any, ::Any, !Matched::Any) at /home/matthew/.julia/packages/LibSerialPort/2dlyw/src/high-level-api.jl:7\n  SerialPort(::AbstractString) at /home/matthew/.julia/packages/LibSerialPort/2dlyw/src/high-level-api.jl:18",
      "",
      "Stacktrace:",
      " [1] top-level scope at In[11]:1"
     ]
    }
   ],
   "source": [
    "sp = SerialPort(\"/dev/ttyACM0\", 9600) "
   ]
  },
  {
   "cell_type": "markdown",
   "metadata": {},
   "source": [
    "# LibSerialPort"
   ]
  },
  {
   "cell_type": "code",
   "execution_count": 5,
   "metadata": {},
   "outputs": [
    {
     "name": "stderr",
     "output_type": "stream",
     "text": [
      "WARNING: using LibSerialPort.SerialPort in module Main conflicts with an existing identifier.\n"
     ]
    }
   ],
   "source": [
    "using LibSerialPort"
   ]
  },
  {
   "cell_type": "code",
   "execution_count": 13,
   "metadata": {},
   "outputs": [
    {
     "name": "stdout",
     "output_type": "stream",
     "text": [
      "/dev/ttyACM0\n",
      "\tDescription:\tUSB Serial - 5870570\n",
      "\tTransport type:\tSP_TRANSPORT_USB\n"
     ]
    }
   ],
   "source": [
    "list_ports() "
   ]
  },
  {
   "cell_type": "code",
   "execution_count": 14,
   "metadata": {},
   "outputs": [
    {
     "data": {
      "text/plain": [
       "SerialPort(Ptr{LibSerialPort.SPPort} @0x000000000422ceb0, false, true)"
      ]
     },
     "execution_count": 14,
     "metadata": {},
     "output_type": "execute_result"
    }
   ],
   "source": [
    "sp=open(\"/dev/ttyACM0\",9600) "
   ]
  },
  {
   "cell_type": "code",
   "execution_count": 15,
   "metadata": {},
   "outputs": [
    {
     "ename": "UndefVarError",
     "evalue": "UndefVarError: readstring not defined",
     "output_type": "error",
     "traceback": [
      "UndefVarError: readstring not defined",
      "",
      "Stacktrace:",
      " [1] top-level scope at In[15]:1"
     ]
    }
   ],
   "source": [
    "RX = readstring(sp)"
   ]
  },
  {
   "cell_type": "markdown",
   "metadata": {},
   "source": [
    "# SerialPorts.jl"
   ]
  },
  {
   "cell_type": "code",
   "execution_count": 1,
   "metadata": {},
   "outputs": [
    {
     "name": "stdout",
     "output_type": "stream",
     "text": [
      "\u001b[32m\u001b[1m  Updating\u001b[22m\u001b[39m registry at `~/.julia/registries/General`\n",
      "\u001b[32m\u001b[1m  Updating\u001b[22m\u001b[39m git-repo `https://github.com/JuliaRegistries/General.git`\n",
      "\u001b[?25l\u001b[2K\u001b[?25h\u001b[32m\u001b[1m Resolving\u001b[22m\u001b[39m package versions...\n",
      "\u001b[32m\u001b[1m  Updating\u001b[22m\u001b[39m `~/.julia/environments/v1.1/Project.toml`\n",
      "\u001b[90m [no changes]\u001b[39m\n",
      "\u001b[32m\u001b[1m  Updating\u001b[22m\u001b[39m `~/.julia/environments/v1.1/Manifest.toml`\n",
      "\u001b[90m [no changes]\u001b[39m\n"
     ]
    }
   ],
   "source": [
    "import Pkg; Pkg.add(\"SerialPorts\")\n",
    "using SerialPorts"
   ]
  },
  {
   "cell_type": "code",
   "execution_count": 2,
   "metadata": {},
   "outputs": [],
   "source": [
    "using SerialPorts"
   ]
  },
  {
   "cell_type": "code",
   "execution_count": 3,
   "metadata": {},
   "outputs": [
    {
     "name": "stdout",
     "output_type": "stream",
     "text": [
      "list_serialports() = [\"/dev/ttyACM0\", \"/dev/ttyS0\", \"/dev/ttyS1\", \"/dev/ttyS10\", \"/dev/ttyS11\", \"/dev/ttyS12\", \"/dev/ttyS13\", \"/dev/ttyS14\", \"/dev/ttyS15\", \"/dev/ttyS16\", \"/dev/ttyS17\", \"/dev/ttyS18\", \"/dev/ttyS19\", \"/dev/ttyS2\", \"/dev/ttyS20\", \"/dev/ttyS21\", \"/dev/ttyS22\", \"/dev/ttyS23\", \"/dev/ttyS24\", \"/dev/ttyS25\", \"/dev/ttyS26\", \"/dev/ttyS27\", \"/dev/ttyS28\", \"/dev/ttyS29\", \"/dev/ttyS3\", \"/dev/ttyS30\", \"/dev/ttyS31\", \"/dev/ttyS4\", \"/dev/ttyS5\", \"/dev/ttyS6\", \"/dev/ttyS7\", \"/dev/ttyS8\", \"/dev/ttyS9\"]\n"
     ]
    },
    {
     "data": {
      "text/plain": [
       "33-element Array{String,1}:\n",
       " \"/dev/ttyACM0\"\n",
       " \"/dev/ttyS0\"  \n",
       " \"/dev/ttyS1\"  \n",
       " \"/dev/ttyS10\" \n",
       " \"/dev/ttyS11\" \n",
       " \"/dev/ttyS12\" \n",
       " \"/dev/ttyS13\" \n",
       " \"/dev/ttyS14\" \n",
       " \"/dev/ttyS15\" \n",
       " \"/dev/ttyS16\" \n",
       " \"/dev/ttyS17\" \n",
       " \"/dev/ttyS18\" \n",
       " \"/dev/ttyS19\" \n",
       " ⋮             \n",
       " \"/dev/ttyS27\" \n",
       " \"/dev/ttyS28\" \n",
       " \"/dev/ttyS29\" \n",
       " \"/dev/ttyS3\"  \n",
       " \"/dev/ttyS30\" \n",
       " \"/dev/ttyS31\" \n",
       " \"/dev/ttyS4\"  \n",
       " \"/dev/ttyS5\"  \n",
       " \"/dev/ttyS6\"  \n",
       " \"/dev/ttyS7\"  \n",
       " \"/dev/ttyS8\"  \n",
       " \"/dev/ttyS9\"  "
      ]
     },
     "execution_count": 3,
     "metadata": {},
     "output_type": "execute_result"
    }
   ],
   "source": [
    "@show list_serialports()"
   ]
  },
  {
   "cell_type": "code",
   "execution_count": 7,
   "metadata": {},
   "outputs": [
    {
     "ename": "PyCall.PyError",
     "evalue": "PyError ($(Expr(:escape, :(ccall(#= /home/matthew/.julia/packages/PyCall/ttONZ/src/pyfncall.jl:44 =# @pysym(:PyObject_Call), PyPtr, (PyPtr, PyPtr, PyPtr), o, pyargsptr, kw))))) <class 'serial.serialutil.SerialException'>\nSerialException(2, \"could not open port /dev/ttyACM1: [Errno 2] No such file or directory: '/dev/ttyACM1'\")\n  File \"/home/matthew/.local/lib/python3.6/site-packages/serial/serialutil.py\", line 240, in __init__\n    self.open()\n  File \"/home/matthew/.local/lib/python3.6/site-packages/serial/serialposix.py\", line 268, in open\n    raise SerialException(msg.errno, \"could not open port {}: {}\".format(self._port, msg))\n",
     "output_type": "error",
     "traceback": [
      "PyError ($(Expr(:escape, :(ccall(#= /home/matthew/.julia/packages/PyCall/ttONZ/src/pyfncall.jl:44 =# @pysym(:PyObject_Call), PyPtr, (PyPtr, PyPtr, PyPtr), o, pyargsptr, kw))))) <class 'serial.serialutil.SerialException'>\nSerialException(2, \"could not open port /dev/ttyACM1: [Errno 2] No such file or directory: '/dev/ttyACM1'\")\n  File \"/home/matthew/.local/lib/python3.6/site-packages/serial/serialutil.py\", line 240, in __init__\n    self.open()\n  File \"/home/matthew/.local/lib/python3.6/site-packages/serial/serialposix.py\", line 268, in open\n    raise SerialException(msg.errno, \"could not open port {}: {}\".format(self._port, msg))\n",
      "",
      "Stacktrace:",
      " [1] pyerr_check at /home/matthew/.julia/packages/PyCall/ttONZ/src/exception.jl:60 [inlined]",
      " [2] pyerr_check at /home/matthew/.julia/packages/PyCall/ttONZ/src/exception.jl:64 [inlined]",
      " [3] macro expansion at /home/matthew/.julia/packages/PyCall/ttONZ/src/exception.jl:84 [inlined]",
      " [4] __pycall!(::PyCall.PyObject, ::Ptr{PyCall.PyObject_struct}, ::PyCall.PyObject, ::Ptr{Nothing}) at /home/matthew/.julia/packages/PyCall/ttONZ/src/pyfncall.jl:44",
      " [5] _pycall!(::PyCall.PyObject, ::PyCall.PyObject, ::Tuple{String,Int64}, ::Int64, ::Ptr{Nothing}) at /home/matthew/.julia/packages/PyCall/ttONZ/src/pyfncall.jl:29",
      " [6] _pycall!(::PyCall.PyObject, ::PyCall.PyObject, ::Tuple{String,Int64}, ::Base.Iterators.Pairs{Union{},Union{},Tuple{},NamedTuple{(),Tuple{}}}) at /home/matthew/.julia/packages/PyCall/ttONZ/src/pyfncall.jl:11",
      " [7] #call#111(::Base.Iterators.Pairs{Union{},Union{},Tuple{},NamedTuple{(),Tuple{}}}, ::PyCall.PyObject, ::String, ::Vararg{Any,N} where N) at /home/matthew/.julia/packages/PyCall/ttONZ/src/pyfncall.jl:89",
      " [8] (::PyCall.PyObject)(::String, ::Vararg{Any,N} where N) at /home/matthew/.julia/packages/PyCall/ttONZ/src/pyfncall.jl:89",
      " [9] SerialPort(::String, ::Int64) at /home/matthew/.julia/packages/SerialPorts/yXpKm/src/SerialPorts.jl:32",
      " [10] top-level scope at In[7]:1"
     ]
    }
   ],
   "source": [
    "s = SerialPort(\"/dev/ttyACM1\", 250000)"
   ]
  },
  {
   "cell_type": "code",
   "execution_count": 25,
   "metadata": {},
   "outputs": [
    {
     "ename": "MethodError",
     "evalue": "MethodError: no method matching readavailable(::SerialPort)\nClosest candidates are:\n  readavailable(!Matched::SerialPorts.SerialPort) at /home/matthew/.julia/packages/SerialPorts/yXpKm/src/SerialPorts.jl:88\n  readavailable(!Matched::MbedTLS.SSLContext) at /home/matthew/.julia/packages/MbedTLS/X4xar/src/ssl.jl:454\n  readavailable(!Matched::Base.Filesystem.File) at filesystem.jl:199\n  ...",
     "output_type": "error",
     "traceback": [
      "MethodError: no method matching readavailable(::SerialPort)\nClosest candidates are:\n  readavailable(!Matched::SerialPorts.SerialPort) at /home/matthew/.julia/packages/SerialPorts/yXpKm/src/SerialPorts.jl:88\n  readavailable(!Matched::MbedTLS.SSLContext) at /home/matthew/.julia/packages/MbedTLS/X4xar/src/ssl.jl:454\n  readavailable(!Matched::Base.Filesystem.File) at filesystem.jl:199\n  ...",
      "",
      "Stacktrace:",
      " [1] top-level scope at In[25]:1"
     ]
    }
   ],
   "source": [
    "x = readavailable(sp) # read from the port\n",
    "println(x)"
   ]
  },
  {
   "cell_type": "code",
   "execution_count": null,
   "metadata": {},
   "outputs": [],
   "source": []
  }
 ],
 "metadata": {
  "kernelspec": {
   "display_name": "Julia 1.1.1",
   "language": "julia",
   "name": "julia-1.1"
  },
  "language_info": {
   "file_extension": ".jl",
   "mimetype": "application/julia",
   "name": "julia",
   "version": "1.1.1"
  }
 },
 "nbformat": 4,
 "nbformat_minor": 2
}
