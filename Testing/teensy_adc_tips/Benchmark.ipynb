{
 "cells": [
  {
   "cell_type": "markdown",
   "metadata": {},
   "source": [
    "# Reading data from adc_benchmark"
   ]
  },
  {
   "cell_type": "code",
   "execution_count": 5,
   "metadata": {},
   "outputs": [],
   "source": [
    "# Import some useful libraries\n",
    "import serial, time\n",
    "from matplotlib import pyplot as plt\n",
    "%matplotlib inline\n",
    "plt.rcParams['figure.figsize'] = [18, 8]"
   ]
  },
  {
   "cell_type": "markdown",
   "metadata": {},
   "source": [
    "## First, open the serial connection"
   ]
  },
  {
   "cell_type": "code",
   "execution_count": 7,
   "metadata": {},
   "outputs": [],
   "source": [
    "ser = serial.Serial('/dev/ttyACM0', 115200) # Usually ACM0, changes with restarts"
   ]
  },
  {
   "cell_type": "markdown",
   "metadata": {},
   "source": [
    "## Now we send commands and read the data.\n",
    "\n",
    "To send a command\n",
    "    - clear the buffer\n",
    "    - write command with ser.write('c')\n",
    "    - wait for a response.\n",
    "\n",
    "To read back the response for a short response, like the time taken message returned by 't'\n",
    "    - Use ser.read_all()\n",
    "    \n",
    "To read back the response when the micro needs to send lots of data\n",
    "    - Use ser.readline() or ser.read() in a loop. If you read fast enough, you can empty the buffer prematurely so\n",
    "    - check if the bufer is empty, and if it is, wait and check again before exiting the loop. If not\n",
    "    - Keep reading until the buffer stays empty\n"
   ]
  },
  {
   "cell_type": "markdown",
   "metadata": {},
   "source": [
    "# Reading one value:"
   ]
  },
  {
   "cell_type": "code",
   "execution_count": 11,
   "metadata": {},
   "outputs": [
    {
     "ename": "OSError",
     "evalue": "[Errno 5] Input/output error",
     "output_type": "error",
     "traceback": [
      "\u001b[0;31m---------------------------------------------------------------------------\u001b[0m",
      "\u001b[0;31mOSError\u001b[0m                                   Traceback (most recent call last)",
      "\u001b[0;32m<ipython-input-11-d4cad4fd48af>\u001b[0m in \u001b[0;36m<module>\u001b[0;34m()\u001b[0m\n\u001b[0;32m----> 1\u001b[0;31m \u001b[0mr\u001b[0m \u001b[0;34m=\u001b[0m \u001b[0mser\u001b[0m\u001b[0;34m.\u001b[0m\u001b[0mread_all\u001b[0m\u001b[0;34m(\u001b[0m\u001b[0;34m)\u001b[0m \u001b[0;31m# clear serial buffer\u001b[0m\u001b[0;34m\u001b[0m\u001b[0;34m\u001b[0m\u001b[0m\n\u001b[0m\u001b[1;32m      2\u001b[0m \u001b[0mser\u001b[0m\u001b[0;34m.\u001b[0m\u001b[0mwrite\u001b[0m\u001b[0;34m(\u001b[0m\u001b[0;34mb'a'\u001b[0m\u001b[0;34m)\u001b[0m\u001b[0;34m\u001b[0m\u001b[0;34m\u001b[0m\u001b[0m\n\u001b[1;32m      3\u001b[0m \u001b[0;32mwhile\u001b[0m \u001b[0mser\u001b[0m\u001b[0;34m.\u001b[0m\u001b[0min_waiting\u001b[0m \u001b[0;34m<\u001b[0m \u001b[0;36m1\u001b[0m\u001b[0;34m:\u001b[0m\u001b[0;34m\u001b[0m\u001b[0;34m\u001b[0m\u001b[0m\n\u001b[1;32m      4\u001b[0m     \u001b[0;32mpass\u001b[0m \u001b[0;31m# wait for a response\u001b[0m\u001b[0;34m\u001b[0m\u001b[0;34m\u001b[0m\u001b[0m\n\u001b[1;32m      5\u001b[0m \u001b[0mtime\u001b[0m\u001b[0;34m.\u001b[0m\u001b[0msleep\u001b[0m\u001b[0;34m(\u001b[0m\u001b[0;36m0.05\u001b[0m\u001b[0;34m)\u001b[0m \u001b[0;31m# This extra delay helps with reliability - it gives the micro time to send all it needs to\u001b[0m\u001b[0;34m\u001b[0m\u001b[0;34m\u001b[0m\u001b[0m\n",
      "\u001b[0;32m/home/matthew/.local/lib/python3.6/site-packages/serial/serialutil.py\u001b[0m in \u001b[0;36mread_all\u001b[0;34m(self)\u001b[0m\n\u001b[1;32m    646\u001b[0m         \u001b[0mRead\u001b[0m \u001b[0mall\u001b[0m \u001b[0mbytes\u001b[0m \u001b[0mcurrently\u001b[0m \u001b[0mavailable\u001b[0m \u001b[0;32min\u001b[0m \u001b[0mthe\u001b[0m \u001b[0mbuffer\u001b[0m \u001b[0mof\u001b[0m \u001b[0mthe\u001b[0m \u001b[0mOS\u001b[0m\u001b[0;34m.\u001b[0m\u001b[0;34m\u001b[0m\u001b[0;34m\u001b[0m\u001b[0m\n\u001b[1;32m    647\u001b[0m         \"\"\"\n\u001b[0;32m--> 648\u001b[0;31m         \u001b[0;32mreturn\u001b[0m \u001b[0mself\u001b[0m\u001b[0;34m.\u001b[0m\u001b[0mread\u001b[0m\u001b[0;34m(\u001b[0m\u001b[0mself\u001b[0m\u001b[0;34m.\u001b[0m\u001b[0min_waiting\u001b[0m\u001b[0;34m)\u001b[0m\u001b[0;34m\u001b[0m\u001b[0;34m\u001b[0m\u001b[0m\n\u001b[0m\u001b[1;32m    649\u001b[0m \u001b[0;34m\u001b[0m\u001b[0m\n\u001b[1;32m    650\u001b[0m     \u001b[0;32mdef\u001b[0m \u001b[0mread_until\u001b[0m\u001b[0;34m(\u001b[0m\u001b[0mself\u001b[0m\u001b[0;34m,\u001b[0m \u001b[0mterminator\u001b[0m\u001b[0;34m=\u001b[0m\u001b[0mLF\u001b[0m\u001b[0;34m,\u001b[0m \u001b[0msize\u001b[0m\u001b[0;34m=\u001b[0m\u001b[0;32mNone\u001b[0m\u001b[0;34m)\u001b[0m\u001b[0;34m:\u001b[0m\u001b[0;34m\u001b[0m\u001b[0;34m\u001b[0m\u001b[0m\n",
      "\u001b[0;32m/home/matthew/.local/lib/python3.6/site-packages/serial/serialposix.py\u001b[0m in \u001b[0;36min_waiting\u001b[0;34m(self)\u001b[0m\n\u001b[1;32m    465\u001b[0m         \u001b[0;34m\"\"\"Return the number of bytes currently in the input buffer.\"\"\"\u001b[0m\u001b[0;34m\u001b[0m\u001b[0;34m\u001b[0m\u001b[0m\n\u001b[1;32m    466\u001b[0m         \u001b[0;31m#~ s = fcntl.ioctl(self.fd, termios.FIONREAD, TIOCM_zero_str)\u001b[0m\u001b[0;34m\u001b[0m\u001b[0;34m\u001b[0m\u001b[0;34m\u001b[0m\u001b[0m\n\u001b[0;32m--> 467\u001b[0;31m         \u001b[0ms\u001b[0m \u001b[0;34m=\u001b[0m \u001b[0mfcntl\u001b[0m\u001b[0;34m.\u001b[0m\u001b[0mioctl\u001b[0m\u001b[0;34m(\u001b[0m\u001b[0mself\u001b[0m\u001b[0;34m.\u001b[0m\u001b[0mfd\u001b[0m\u001b[0;34m,\u001b[0m \u001b[0mTIOCINQ\u001b[0m\u001b[0;34m,\u001b[0m \u001b[0mTIOCM_zero_str\u001b[0m\u001b[0;34m)\u001b[0m\u001b[0;34m\u001b[0m\u001b[0;34m\u001b[0m\u001b[0m\n\u001b[0m\u001b[1;32m    468\u001b[0m         \u001b[0;32mreturn\u001b[0m \u001b[0mstruct\u001b[0m\u001b[0;34m.\u001b[0m\u001b[0munpack\u001b[0m\u001b[0;34m(\u001b[0m\u001b[0;34m'I'\u001b[0m\u001b[0;34m,\u001b[0m \u001b[0ms\u001b[0m\u001b[0;34m)\u001b[0m\u001b[0;34m[\u001b[0m\u001b[0;36m0\u001b[0m\u001b[0;34m]\u001b[0m\u001b[0;34m\u001b[0m\u001b[0;34m\u001b[0m\u001b[0m\n\u001b[1;32m    469\u001b[0m \u001b[0;34m\u001b[0m\u001b[0m\n",
      "\u001b[0;31mOSError\u001b[0m: [Errno 5] Input/output error"
     ]
    }
   ],
   "source": [
    "r = ser.read_all() # clear serial buffer\n",
    "ser.write(b'a')\n",
    "while ser.in_waiting < 1:\n",
    "    pass # wait for a response\n",
    "time.sleep(0.05) # This extra delay helps with reliability - it gives the micro time to send all it needs to\n",
    "r = ser.read_all()\n",
    "print(r) # Prints the value"
   ]
  },
  {
   "cell_type": "markdown",
   "metadata": {},
   "source": [
    "# Reading and sending 20k samples"
   ]
  },
  {
   "cell_type": "code",
   "execution_count": 35,
   "metadata": {},
   "outputs": [
    {
     "name": "stdout",
     "output_type": "stream",
     "text": [
      "40000\n"
     ]
    }
   ],
   "source": [
    "\n",
    "# Get the values\n",
    "ser.write(b'd') # See code for command meanings\n",
    "while ser.in_waiting < 1:\n",
    "    pass # wait for a response\n",
    "\n",
    "a = b'' # Keep bytes as a string\n",
    "i = 0\n",
    "while True:\n",
    "    if ser.in_waiting < 1:\n",
    "        time.sleep(0.005) # Wait and check again\n",
    "        if ser.in_waiting < 1:\n",
    "            break\n",
    "    b = ser.read_all() # Using read() is much slower due to extra delays\n",
    "    a += b\n",
    "    i += 1\n",
    "    \n",
    "print(len(a)) # Should be 20000 readings, 2 bytes per reading (so 40k bytes)"
   ]
  },
  {
   "cell_type": "code",
   "execution_count": 36,
   "metadata": {},
   "outputs": [
    {
     "name": "stdout",
     "output_type": "stream",
     "text": [
      "b'123471\\r\\n'\n"
     ]
    }
   ],
   "source": [
    "# How long did it take?\n",
    "r = ser.read_all() # clear serial buffer\n",
    "ser.write(b't') # <<<< gets time\n",
    "while ser.in_waiting < 1:\n",
    "    pass # wait for a response\n",
    "time.sleep(0.05) # This extra delay helps with reliability - it gives the micro time to send all it needs to\n",
    "r = ser.read_all()\n",
    "print(r) # Prints the time"
   ]
  },
  {
   "cell_type": "code",
   "execution_count": 38,
   "metadata": {},
   "outputs": [
    {
     "data": {
      "text/plain": [
       "6.17355"
      ]
     },
     "execution_count": 38,
     "metadata": {},
     "output_type": "execute_result"
    }
   ],
   "source": [
    "(123471/20000) # 6.17 us / sample"
   ]
  },
  {
   "cell_type": "code",
   "execution_count": 39,
   "metadata": {},
   "outputs": [
    {
     "data": {
      "text/plain": [
       "161981.35594593064"
      ]
     },
     "execution_count": 39,
     "metadata": {},
     "output_type": "execute_result"
    }
   ],
   "source": [
    "1000000/(123471/20000) # ~162ksps"
   ]
  },
  {
   "cell_type": "markdown",
   "metadata": {},
   "source": [
    "converting to numbers:"
   ]
  },
  {
   "cell_type": "code",
   "execution_count": 40,
   "metadata": {},
   "outputs": [
    {
     "data": {
      "text/plain": [
       "b'`\\x89R\\xd5g6ikb\\xa4o\\xbcd\\xf0j\\xfds\\xe6}\\xbbw\\xbbv\\xd2sP}.\\x84\\xb6\\x84\\xf0\\x85@}\\xb0w\\x19x\\x9br3t\\x17w\\xdbn\\xbfm\\x7f'"
      ]
     },
     "execution_count": 40,
     "metadata": {},
     "output_type": "execute_result"
    }
   ],
   "source": [
    "a[:50] # This is what the result string looks like"
   ]
  },
  {
   "cell_type": "code",
   "execution_count": 48,
   "metadata": {},
   "outputs": [
    {
     "data": {
      "text/plain": [
       "[96, 82, 103, 105, 98]"
      ]
     },
     "execution_count": 48,
     "metadata": {},
     "output_type": "execute_result"
    }
   ],
   "source": [
    "vals = []\n",
    "for i in range(int(len(a)/2)):\n",
    "    val = int.from_bytes(a[i*2:i*2+1], byteorder='big') # Check byteorder (test with known signal)\n",
    "    vals.append(val)\n",
    "vals[:5] # look at just the first 5"
   ]
  },
  {
   "cell_type": "code",
   "execution_count": 49,
   "metadata": {},
   "outputs": [
    {
     "data": {
      "text/plain": [
       "20000"
      ]
     },
     "execution_count": 49,
     "metadata": {},
     "output_type": "execute_result"
    }
   ],
   "source": [
    "len(vals)"
   ]
  },
  {
   "cell_type": "markdown",
   "metadata": {},
   "source": [
    "# Reading 20k samples, then sending"
   ]
  },
  {
   "cell_type": "code",
   "execution_count": 52,
   "metadata": {},
   "outputs": [
    {
     "name": "stdout",
     "output_type": "stream",
     "text": [
      "40000\n"
     ]
    }
   ],
   "source": [
    "# Get the values\n",
    "ser.write(b'f') # See code for command meanings\n",
    "while ser.in_waiting < 1:\n",
    "    pass # wait for a response\n",
    "\n",
    "a = b'' # Keep bytes as a string\n",
    "i = 0\n",
    "while True:\n",
    "    if ser.in_waiting < 1:\n",
    "        time.sleep(0.005) # Wait and check again\n",
    "        if ser.in_waiting < 1:\n",
    "            break\n",
    "    b = ser.read_all() # Using read() is much slower due to extra delays\n",
    "    a += b\n",
    "    i += 1\n",
    "    \n",
    "print(len(a)) # Should be 20000 readings, 2 bytes per reading (so 40k bytes)"
   ]
  },
  {
   "cell_type": "code",
   "execution_count": 53,
   "metadata": {},
   "outputs": [
    {
     "name": "stdout",
     "output_type": "stream",
     "text": [
      "b'101434\\r\\n'\n"
     ]
    }
   ],
   "source": [
    "# How long did it take?\n",
    "r = ser.read_all() # clear serial buffer\n",
    "ser.write(b't') # <<<< gets time\n",
    "while ser.in_waiting < 1:\n",
    "    pass # wait for a response\n",
    "time.sleep(0.05) # This extra delay helps with reliability - it gives the micro time to send all it needs to\n",
    "r = ser.read_all()\n",
    "print(r) # Prints the time"
   ]
  },
  {
   "cell_type": "code",
   "execution_count": 55,
   "metadata": {},
   "outputs": [
    {
     "data": {
      "text/plain": [
       "197172.54569473746"
      ]
     },
     "execution_count": 55,
     "metadata": {},
     "output_type": "execute_result"
    }
   ],
   "source": [
    "1000000/(101434/20000) # ~200ksps"
   ]
  },
  {
   "cell_type": "markdown",
   "metadata": {},
   "source": [
    "### Speed has gone from ~163ksps to ~197 ksps by reading first, then sending"
   ]
  },
  {
   "cell_type": "markdown",
   "metadata": {},
   "source": [
    "# Reading from different analog pins"
   ]
  },
  {
   "cell_type": "code",
   "execution_count": 56,
   "metadata": {},
   "outputs": [
    {
     "name": "stdout",
     "output_type": "stream",
     "text": [
      "40000\n"
     ]
    }
   ],
   "source": [
    "# Get the values\n",
    "ser.write(b'g') # See code for command meanings\n",
    "while ser.in_waiting < 1:\n",
    "    pass # wait for a response\n",
    "\n",
    "a = b'' # Keep bytes as a string\n",
    "i = 0\n",
    "while True:\n",
    "    if ser.in_waiting < 1:\n",
    "        time.sleep(0.005) # Wait and check again\n",
    "        if ser.in_waiting < 1:\n",
    "            break\n",
    "    b = ser.read_all() # Using read() is much slower due to extra delays\n",
    "    a += b\n",
    "    i += 1\n",
    "    \n",
    "print(len(a)) # Should be 20000 readings, 2 bytes per reading (so 40k bytes)"
   ]
  },
  {
   "cell_type": "code",
   "execution_count": 57,
   "metadata": {},
   "outputs": [
    {
     "name": "stdout",
     "output_type": "stream",
     "text": [
      "b'91624\\r\\n'\n"
     ]
    }
   ],
   "source": [
    "# How long did it take?\n",
    "r = ser.read_all() # clear serial buffer\n",
    "ser.write(b't') # <<<< gets time\n",
    "while ser.in_waiting < 1:\n",
    "    pass # wait for a response\n",
    "time.sleep(0.05) # This extra delay helps with reliability - it gives the micro time to send all it needs to\n",
    "r = ser.read_all()\n",
    "print(r) # Prints the time"
   ]
  },
  {
   "cell_type": "code",
   "execution_count": 58,
   "metadata": {},
   "outputs": [
    {
     "data": {
      "text/plain": [
       "218283.41919147823"
      ]
     },
     "execution_count": 58,
     "metadata": {},
     "output_type": "execute_result"
    }
   ],
   "source": [
    "1000000/(91624/20000) # ~200ksps"
   ]
  },
  {
   "cell_type": "code",
   "execution_count": 59,
   "metadata": {},
   "outputs": [],
   "source": [
    "# Reading from different pins is actually a little faster, since some use ADC1 instead of ADC0 internally."
   ]
  },
  {
   "cell_type": "code",
   "execution_count": null,
   "metadata": {},
   "outputs": [],
   "source": []
  },
  {
   "cell_type": "code",
   "execution_count": null,
   "metadata": {},
   "outputs": [],
   "source": []
  },
  {
   "cell_type": "code",
   "execution_count": null,
   "metadata": {},
   "outputs": [],
   "source": []
  },
  {
   "cell_type": "code",
   "execution_count": 6,
   "metadata": {},
   "outputs": [],
   "source": [
    "ser.close() # Close the connection when you're done."
   ]
  },
  {
   "cell_type": "code",
   "execution_count": null,
   "metadata": {},
   "outputs": [],
   "source": []
  }
 ],
 "metadata": {
  "kernelspec": {
   "display_name": "Python 3",
   "language": "python",
   "name": "python3"
  },
  "language_info": {
   "codemirror_mode": {
    "name": "ipython",
    "version": 3
   },
   "file_extension": ".py",
   "mimetype": "text/x-python",
   "name": "python",
   "nbconvert_exporter": "python",
   "pygments_lexer": "ipython3",
   "version": "3.6.8"
  }
 },
 "nbformat": 4,
 "nbformat_minor": 2
}
