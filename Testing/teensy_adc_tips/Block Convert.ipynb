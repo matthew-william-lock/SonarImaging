{
 "cells": [
  {
   "cell_type": "markdown",
   "metadata": {},
   "source": [
    "# Reading data from adc_minimal_block_convert"
   ]
  },
  {
   "cell_type": "code",
   "execution_count": 50,
   "metadata": {},
   "outputs": [],
   "source": [
    "# Import some useful libraries\n",
    "import serial, time\n",
    "from matplotlib import pyplot as plt\n",
    "%matplotlib inline\n",
    "plt.rcParams['figure.figsize'] = [18, 8]"
   ]
  },
  {
   "cell_type": "markdown",
   "metadata": {},
   "source": [
    "## First, open the serial connection"
   ]
  },
  {
   "cell_type": "code",
   "execution_count": 52,
   "metadata": {},
   "outputs": [],
   "source": [
    "ser = serial.Serial('/dev/ttyACM23', 115200) # Usually ACM0, changes with restarts"
   ]
  },
  {
   "cell_type": "markdown",
   "metadata": {},
   "source": [
    "## Now we send commands and read the data.\n",
    "\n",
    "To send a command\n",
    "    - clear the buffer\n",
    "    - write command with ser.write('c')\n",
    "    - wait for a response.\n",
    "\n",
    "To read back the response for a short response, like the time taken massage returned by 'c'\n",
    "    - Use ser.read_all()\n",
    "    \n",
    "To read back the response when the micro needs to send lots of data\n",
    "    - Use ser.readline() or ser.read() in a loop. If you read fast enough, you can empty the buffer prematurely so\n",
    "    - check if the bufer is empty, and if it is, wait and check again before exiting the loop. If not\n",
    "    - Keep reading until the buffer stays empty\n",
    "    \n",
    "I store the values in a list (a) and plot them later."
   ]
  },
  {
   "cell_type": "code",
   "execution_count": 54,
   "metadata": {},
   "outputs": [
    {
     "name": "stdout",
     "output_type": "stream",
     "text": [
      "Check\n",
      "b'48\\r\\n1213\\r\\n1420\\r\\n1125\\r\\n1466\\r\\n1534\\r\\n1297\\r\\n1229\\r\\n1347\\r\\n1293\\r\\n968\\r\\n1072\\r\\n1339\\r\\n1391\\r\\n1332\\r\\n1430\\r\\n1025\\r\\n982\\r\\n1109\\r\\n1408\\r\\n1451\\r\\n1308\\r\\n1205\\r\\n1393\\r\\n1206\\r\\n1457\\r\\n1442\\r\\n1313\\r\\n1286\\r\\n998\\r\\n1163\\r\\n737\\r\\n1023\\r\\n1091\\r\\n1098\\r\\n1182\\r\\n1233\\r\\n1116\\r\\n1116\\r\\n1115\\r\\n1055\\r\\n1078\\r\\n1491\\r\\n1318\\r\\n1255\\r\\n1334\\r\\n1311\\r\\n1405\\r\\n1010\\r\\n986\\r\\n878\\r\\n1231\\r\\n1220\\r\\n1125\\r\\n1462\\r\\n1275\\r\\n1159\\r\\n1087\\r\\n1333\\r\\n1247\\r\\n1275\\r\\n1158\\r\\n1274\\r\\n1331\\r\\n1364\\r\\n1413\\r\\n911\\r\\n690\\r\\n915\\r\\n940\\r\\n1087\\r\\n1330\\r\\n1543\\r\\n1146\\r\\n991\\r\\n965\\r\\n1117\\r\\n1436\\r\\n1179\\r\\n797\\r\\n874\\r\\n966\\r\\n1181\\r\\n1168\\r\\n1050\\r\\n1000\\r\\n1054\\r\\n1264\\r\\n1424\\r\\n1384\\r\\n1365\\r\\n1231\\r\\n1223\\r\\n1320\\r\\n1644\\r\\n1441\\r\\n1253\\r\\n958\\r\\n1157\\r\\n1213\\r\\n1417\\r\\n1160\\r\\n1150\\r\\n1243\\r\\n1022\\r\\n1278\\r\\n1097\\r\\n1117\\r\\n1436\\r\\n1180\\r\\n851\\r\\n1200\\r\\n1304\\r\\n1439\\r\\n1376\\r\\n1713\\r\\n1771\\r\\n1748\\r\\n1693\\r\\n1460\\r\\n1400\\r\\n1422\\r\\n995\\r\\n1225\\r\\n1091\\r\\n1100\\r\\n1060\\r\\n905\\r\\n658\\r\\n920\\r\\n776\\r\\n864\\r\\n1058\\r\\n1027\\r\\n862\\r\\n1174\\r\\n1204\\r\\n1069\\r\\n1397\\r\\n980\\r\\n1237\\r\\n1376\\r\\n1709\\r\\n1516\\r\\n1482\\r\\n1461\\r\\n1218\\r\\n1248\\r\\n1339\\r\\n1393\\r\\n1205\\r\\n1393\\r\\n1204\\r\\n1071\\r\\n1272\\r\\n1455\\r\\n1567\\r\\n1371\\r\\n1377\\r\\n1521\\r\\n1569\\r\\n1756\\r\\n1755\\r\\n1692\\r\\n1492\\r\\n1380\\r\\n1111\\r\\n1289\\r\\n1195\\r\\n984\\r\\n1003\\r\\n782\\r\\n1004\\r\\n838\\r\\n1218\\r\\n1246\\r\\n1464\\r\\n1658\\r\\n1629\\r\\n1228\\r\\n1029\\r\\n1244\\r\\n1081\\r\\n1185\\r\\n950\\r\\n1127\\r\\n1345\\r\\n1538\\r\\n1558\\r\\n1382\\r\\n984\\r\\n1005\\r\\n1159\\r\\n1084\\r\\n1133\\r\\n1125\\r\\n1467\\r\\n1363\\r\\n1347\\r\\n1297\\r\\n1226\\r\\n1151\\r\\n1060\\r\\n904\\r\\n841\\r\\n920\\r\\n776\\r\\n863\\r\\n994\\r\\n903\\r\\n783\\r\\n705\\r\\n1037\\r\\n1140\\r\\n832\\r\\n1076\\r\\n1101\\r\\n1378\\r\\n1584\\r\\n1487\\r\\n1553\\r\\n1556\\r\\n1493\\r\\n1201\\r\\n1132\\r\\n808\\r\\n851\\r\\n1204\\r\\n1069\\r\\n1394\\r\\n1268\\r\\n1191\\r\\n1076\\r\\n1105\\r\\n1144\\r\\n1092\\r\\n1159\\r\\n1089\\r\\n1213\\r\\n1416\\r\\n1354\\r\\n1498\\r\\n1514\\r\\n1607\\r\\n1382\\r\\n983\\r\\n945\\r\\n807\\r\\n789\\r\\n845\\r\\n1179\\r\\n796\\r\\n1057\\r\\n965\\r\\n1114\\r\\n1235\\r\\n995\\r\\n1220\\r\\n1126\\r\\n1532\\r\\n1537\\r\\n1501\\r\\n1252\\r\\n1137\\r\\n905\\r\\n656\\r\\n541\\r\\n557\\r\\n610\\r\\n1121\\r\\n1195\\r\\n982\\r\\n1109\\r\\n1409\\r\\n1265\\r\\n1240\\r\\n1314\\r\\n1343\\r\\n1659\\r\\n1442\\r\\n1311\\r\\n1410\\r\\n1323\\r\\n1335\\r\\n1631\\r\\n1105\\r\\n1148\\r\\n865\\r\\n876\\r\\n1358\\r\\n1262\\r\\n1044\\r\\n850\\r\\n882\\r\\n636\\r\\n712\\r\\n743\\r\\n670\\r\\n598\\r\\n827\\r\\n1245\\r\\n1398\\r\\n1037\\r\\n1143\\r\\n1032\\r\\n1181\\r\\n1168\\r\\n1049\\r\\n940\\r\\n1092\\r\\n1161\\r\\n863\\r\\n995\\r\\n1221\\r\\n1445\\r\\n1159\\r\\n1085\\r\\n1454\\r\\n1244\\r\\n1080\\r\\n1368\\r\\n1680\\r\\n1201\\r\\n1135\\r\\n1003\\r\\n781\\r\\n943\\r\\n928\\r\\n805\\r\\n896\\r\\n814\\r\\n989\\r\\n1074\\r\\n1224\\r\\n1382\\r\\n984\\r\\n1005\\r\\n1156\\r\\n891\\r\\n977\\r\\n795\\r\\n993\\r\\n844\\r\\n1372\\r\\n1440\\r\\n1442\\r\\n1313\\r\\n1281\\r\\n1301\\r\\n996\\r\\n1291\\r\\n1088\\r\\n1393\\r\\n1208\\r\\n1328\\r\\n1671\\r\\n1116\\r\\n1115\\r\\n1055\\r\\n1077\\r\\n1426\\r\\n1255\\r\\n1334\\r\\n1312\\r\\n1469\\r\\n1240\\r\\n1317\\r\\n1189\\r\\n1204\\r\\n1069\\r\\n1396\\r\\n1164\\r\\n793\\r\\n616\\r\\n762\\r\\n688\\r\\n530\\r\\n948\\r\\n1251\\r\\n1073\\r\\n1155\\r\\n834\\r\\n954\\r\\n894\\r\\n918\\r\\n876\\r\\n1358\\r\\n1263\\r\\n1362\\r\\n1529\\r\\n1599\\r\\n1353\\r\\n1438\\r\\n1052\\r\\n879\\r\\n698\\r\\n1075\\r\\n1041\\r\\n909\\r\\n915\\r\\n937\\r\\n647\\r\\n456\\r\\n921\\r\\n590\\r\\n922\\r\\n645\\r\\n579\\r\\n945\\r\\n804\\r\\n1085\\r\\n1449\\r\\n1414\\r\\n967\\r\\n1010\\r\\n987\\r\\n1197\\r\\n1362\\r\\n1524\\r\\n1509\\r\\n1284\\r\\n1120\\r\\n1378\\r\\n1583\\r\\n1427\\r\\n1098\\r\\n1181\\r\\n1173\\r\\n1146\\r\\n987\\r\\n1202\\r\\n1192\\r\\n1137\\r\\n904\\r\\n841\\r\\n923\\r\\n967\\r\\n1009\\r\\n926\\r\\n902\\r\\n946\\r\\n867\\r\\n1260\\r\\n1163\\r\\n734\\r\\n828\\r\\n1314\\r\\n1343\\r\\n1661\\r\\n1215\\r\\n1296\\r\\n1414\\r\\n965\\r\\n1119\\r\\n1313\\r\\n1282\\r\\n1361\\r\\n1461\\r\\n1216\\r\\n1357\\r\\n1202\\r\\n1195\\r\\n984\\r\\n1005\\r\\n1154\\r\\n1017\\r\\n952\\r\\n1017\\r\\n9Conversion complete in 20000 us\\n'\n"
     ]
    },
    {
     "ename": "NameError",
     "evalue": "name 'println' is not defined",
     "output_type": "error",
     "traceback": [
      "\u001b[0;31m---------------------------------------------------------------------------\u001b[0m",
      "\u001b[0;31mNameError\u001b[0m                                 Traceback (most recent call last)",
      "\u001b[0;32m<ipython-input-54-cc5b897d8b6f>\u001b[0m in \u001b[0;36m<module>\u001b[0;34m()\u001b[0m\n\u001b[0;32m----> 1\u001b[0;31m \u001b[0mget_ipython\u001b[0m\u001b[0;34m(\u001b[0m\u001b[0;34m)\u001b[0m\u001b[0;34m.\u001b[0m\u001b[0mrun_cell_magic\u001b[0m\u001b[0;34m(\u001b[0m\u001b[0;34m'time'\u001b[0m\u001b[0;34m,\u001b[0m \u001b[0;34m''\u001b[0m\u001b[0;34m,\u001b[0m \u001b[0;34m'r = ser.read_all() # clear serial buffer\\n\\n# Start a conversion\\nser.write(b\\'c\\')\\nprint(\"Check\")\\nwhile ser.in_waiting < 1:\\n    pass # wait for a response\\n    #print(\"Check1\")\\ntime.sleep(0.05) # This extra delay helps with reliability - it gives the micro time to send all it needs to\\nr = ser.read_all()\\nprint(r) # Prints the time\\n\\n# Get the values\\nser.write(b\\'p\\') # Print DMA buffer\\nwhile ser.in_waiting < 1:\\n    pass # wait for a response\\n\\na = []\\ni = 0\\nwhile True:\\n    if ser.in_waiting < 1:\\n        time.sleep(0.005) # Wait and check again\\n        if ser.in_waiting < 1:\\n            break\\n    b = ser.readline()\\n    println(b)\\n    a.append(b)\\n    i += 1\\n    \\nprint(len(a), i) # Should be 10000 readings'\u001b[0m\u001b[0;34m)\u001b[0m\u001b[0;34m\u001b[0m\u001b[0;34m\u001b[0m\u001b[0m\n\u001b[0m",
      "\u001b[0;32m/usr/lib/python3/dist-packages/IPython/core/interactiveshell.py\u001b[0m in \u001b[0;36mrun_cell_magic\u001b[0;34m(self, magic_name, line, cell)\u001b[0m\n\u001b[1;32m   2115\u001b[0m             \u001b[0mmagic_arg_s\u001b[0m \u001b[0;34m=\u001b[0m \u001b[0mself\u001b[0m\u001b[0;34m.\u001b[0m\u001b[0mvar_expand\u001b[0m\u001b[0;34m(\u001b[0m\u001b[0mline\u001b[0m\u001b[0;34m,\u001b[0m \u001b[0mstack_depth\u001b[0m\u001b[0;34m)\u001b[0m\u001b[0;34m\u001b[0m\u001b[0;34m\u001b[0m\u001b[0m\n\u001b[1;32m   2116\u001b[0m             \u001b[0;32mwith\u001b[0m \u001b[0mself\u001b[0m\u001b[0;34m.\u001b[0m\u001b[0mbuiltin_trap\u001b[0m\u001b[0;34m:\u001b[0m\u001b[0;34m\u001b[0m\u001b[0;34m\u001b[0m\u001b[0m\n\u001b[0;32m-> 2117\u001b[0;31m                 \u001b[0mresult\u001b[0m \u001b[0;34m=\u001b[0m \u001b[0mfn\u001b[0m\u001b[0;34m(\u001b[0m\u001b[0mmagic_arg_s\u001b[0m\u001b[0;34m,\u001b[0m \u001b[0mcell\u001b[0m\u001b[0;34m)\u001b[0m\u001b[0;34m\u001b[0m\u001b[0;34m\u001b[0m\u001b[0m\n\u001b[0m\u001b[1;32m   2118\u001b[0m             \u001b[0;32mreturn\u001b[0m \u001b[0mresult\u001b[0m\u001b[0;34m\u001b[0m\u001b[0;34m\u001b[0m\u001b[0m\n\u001b[1;32m   2119\u001b[0m \u001b[0;34m\u001b[0m\u001b[0m\n",
      "\u001b[0;32m<decorator-gen-60>\u001b[0m in \u001b[0;36mtime\u001b[0;34m(self, line, cell, local_ns)\u001b[0m\n",
      "\u001b[0;32m/usr/lib/python3/dist-packages/IPython/core/magic.py\u001b[0m in \u001b[0;36m<lambda>\u001b[0;34m(f, *a, **k)\u001b[0m\n\u001b[1;32m    186\u001b[0m     \u001b[0;31m# but it's overkill for just that one bit of state.\u001b[0m\u001b[0;34m\u001b[0m\u001b[0;34m\u001b[0m\u001b[0;34m\u001b[0m\u001b[0m\n\u001b[1;32m    187\u001b[0m     \u001b[0;32mdef\u001b[0m \u001b[0mmagic_deco\u001b[0m\u001b[0;34m(\u001b[0m\u001b[0marg\u001b[0m\u001b[0;34m)\u001b[0m\u001b[0;34m:\u001b[0m\u001b[0;34m\u001b[0m\u001b[0;34m\u001b[0m\u001b[0m\n\u001b[0;32m--> 188\u001b[0;31m         \u001b[0mcall\u001b[0m \u001b[0;34m=\u001b[0m \u001b[0;32mlambda\u001b[0m \u001b[0mf\u001b[0m\u001b[0;34m,\u001b[0m \u001b[0;34m*\u001b[0m\u001b[0ma\u001b[0m\u001b[0;34m,\u001b[0m \u001b[0;34m**\u001b[0m\u001b[0mk\u001b[0m\u001b[0;34m:\u001b[0m \u001b[0mf\u001b[0m\u001b[0;34m(\u001b[0m\u001b[0;34m*\u001b[0m\u001b[0ma\u001b[0m\u001b[0;34m,\u001b[0m \u001b[0;34m**\u001b[0m\u001b[0mk\u001b[0m\u001b[0;34m)\u001b[0m\u001b[0;34m\u001b[0m\u001b[0;34m\u001b[0m\u001b[0m\n\u001b[0m\u001b[1;32m    189\u001b[0m \u001b[0;34m\u001b[0m\u001b[0m\n\u001b[1;32m    190\u001b[0m         \u001b[0;32mif\u001b[0m \u001b[0mcallable\u001b[0m\u001b[0;34m(\u001b[0m\u001b[0marg\u001b[0m\u001b[0;34m)\u001b[0m\u001b[0;34m:\u001b[0m\u001b[0;34m\u001b[0m\u001b[0;34m\u001b[0m\u001b[0m\n",
      "\u001b[0;32m/usr/lib/python3/dist-packages/IPython/core/magics/execution.py\u001b[0m in \u001b[0;36mtime\u001b[0;34m(self, line, cell, local_ns)\u001b[0m\n\u001b[1;32m   1191\u001b[0m         \u001b[0;32melse\u001b[0m\u001b[0;34m:\u001b[0m\u001b[0;34m\u001b[0m\u001b[0;34m\u001b[0m\u001b[0m\n\u001b[1;32m   1192\u001b[0m             \u001b[0mst\u001b[0m \u001b[0;34m=\u001b[0m \u001b[0mclock2\u001b[0m\u001b[0;34m(\u001b[0m\u001b[0;34m)\u001b[0m\u001b[0;34m\u001b[0m\u001b[0;34m\u001b[0m\u001b[0m\n\u001b[0;32m-> 1193\u001b[0;31m             \u001b[0mexec\u001b[0m\u001b[0;34m(\u001b[0m\u001b[0mcode\u001b[0m\u001b[0;34m,\u001b[0m \u001b[0mglob\u001b[0m\u001b[0;34m,\u001b[0m \u001b[0mlocal_ns\u001b[0m\u001b[0;34m)\u001b[0m\u001b[0;34m\u001b[0m\u001b[0;34m\u001b[0m\u001b[0m\n\u001b[0m\u001b[1;32m   1194\u001b[0m             \u001b[0mend\u001b[0m \u001b[0;34m=\u001b[0m \u001b[0mclock2\u001b[0m\u001b[0;34m(\u001b[0m\u001b[0;34m)\u001b[0m\u001b[0;34m\u001b[0m\u001b[0;34m\u001b[0m\u001b[0m\n\u001b[1;32m   1195\u001b[0m             \u001b[0mout\u001b[0m \u001b[0;34m=\u001b[0m \u001b[0;32mNone\u001b[0m\u001b[0;34m\u001b[0m\u001b[0;34m\u001b[0m\u001b[0m\n",
      "\u001b[0;32m<timed exec>\u001b[0m in \u001b[0;36m<module>\u001b[0;34m()\u001b[0m\n",
      "\u001b[0;31mNameError\u001b[0m: name 'println' is not defined"
     ]
    }
   ],
   "source": [
    "%%time\n",
    "r = ser.read_all() # clear serial buffer\n",
    "\n",
    "# Start a conversion\n",
    "ser.write(b'c')\n",
    "print(\"Check\")\n",
    "while ser.in_waiting < 1:\n",
    "    pass # wait for a response\n",
    "    #print(\"Check1\")\n",
    "time.sleep(0.05) # This extra delay helps with reliability - it gives the micro time to send all it needs to\n",
    "r = ser.read_all()\n",
    "print(r) # Prints the time\n",
    "\n",
    "# Get the values\n",
    "ser.write(b'p') # Print DMA buffer\n",
    "while ser.in_waiting < 1:\n",
    "    pass # wait for a response\n",
    "\n",
    "a = []\n",
    "i = 0\n",
    "while True:\n",
    "    if ser.in_waiting < 1:\n",
    "        time.sleep(0.005) # Wait and check again\n",
    "        if ser.in_waiting < 1:\n",
    "            break\n",
    "    b = ser.readline()\n",
    "    a.append(b)\n",
    "    i += 1\n",
    "    \n",
    "print(len(a), i) # Should be 10000 readings"
   ]
  },
  {
   "cell_type": "code",
   "execution_count": 49,
   "metadata": {},
   "outputs": [
    {
     "data": {
      "text/plain": [
       "[<matplotlib.lines.Line2D at 0x7ff600e7d320>]"
      ]
     },
     "execution_count": 49,
     "metadata": {},
     "output_type": "execute_result"
    },
    {
     "data": {
      "image/png": "[encoded data removed]",
      "text/plain": [
       "<Figure size 432x288 with 1 Axes>"
      ]
     },
     "metadata": {},
     "output_type": "display_data"
    }
   ],
   "source": [
    "plt.plot([int(n) for n in a[1:100]],\".\") # microphone heard me whistling"
   ]
  },
  {
   "cell_type": "code",
   "execution_count": 6,
   "metadata": {},
   "outputs": [],
   "source": [
    "ser.close() # Close the connection when you're done."
   ]
  },
  {
   "cell_type": "code",
   "execution_count": null,
   "metadata": {},
   "outputs": [],
   "source": []
  }
 ],
 "metadata": {
  "kernelspec": {
   "display_name": "Python 3",
   "language": "python",
   "name": "python3"
  },
  "language_info": {
   "codemirror_mode": {
    "name": "ipython",
    "version": 3
   },
   "file_extension": ".py",
   "mimetype": "text/x-python",
   "name": "python",
   "nbconvert_exporter": "python",
   "pygments_lexer": "ipython3",
   "version": "3.6.8"
  }
 },
 "nbformat": 4,
 "nbformat_minor": 2
}
