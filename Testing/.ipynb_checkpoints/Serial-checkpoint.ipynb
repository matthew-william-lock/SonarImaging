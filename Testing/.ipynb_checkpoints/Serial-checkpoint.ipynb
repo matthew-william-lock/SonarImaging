{
 "cells": [
  {
   "cell_type": "markdown",
   "metadata": {},
   "source": [
    "# Julia Serial Connection"
   ]
  },
  {
   "cell_type": "code",
   "execution_count": 1,
   "metadata": {},
   "outputs": [],
   "source": [
    "using SerialPorts"
   ]
  },
  {
   "cell_type": "code",
   "execution_count": 2,
   "metadata": {},
   "outputs": [
    {
     "data": {
      "text/plain": [
       "33-element Array{String,1}:\n",
       " \"/dev/ttyACM2\"\n",
       " \"/dev/ttyS0\"  \n",
       " \"/dev/ttyS1\"  \n",
       " \"/dev/ttyS10\" \n",
       " \"/dev/ttyS11\" \n",
       " \"/dev/ttyS12\" \n",
       " \"/dev/ttyS13\" \n",
       " \"/dev/ttyS14\" \n",
       " \"/dev/ttyS15\" \n",
       " \"/dev/ttyS16\" \n",
       " \"/dev/ttyS17\" \n",
       " \"/dev/ttyS18\" \n",
       " \"/dev/ttyS19\" \n",
       " ⋮             \n",
       " \"/dev/ttyS27\" \n",
       " \"/dev/ttyS28\" \n",
       " \"/dev/ttyS29\" \n",
       " \"/dev/ttyS3\"  \n",
       " \"/dev/ttyS30\" \n",
       " \"/dev/ttyS31\" \n",
       " \"/dev/ttyS4\"  \n",
       " \"/dev/ttyS5\"  \n",
       " \"/dev/ttyS6\"  \n",
       " \"/dev/ttyS7\"  \n",
       " \"/dev/ttyS8\"  \n",
       " \"/dev/ttyS9\"  "
      ]
     },
     "execution_count": 2,
     "metadata": {},
     "output_type": "execute_result"
    }
   ],
   "source": [
    "list_serialports()"
   ]
  },
  {
   "cell_type": "code",
   "execution_count": 3,
   "metadata": {},
   "outputs": [
    {
     "data": {
      "text/plain": [
       "SerialPort(\"/dev/ttyACM2\", 9600, 8, \"N\", 1, nothing, false, false, false, PyObject Serial<id=0x7fdc39ceacc0, open=True>(port='/dev/ttyACM2', baudrate=9600, bytesize=8, parity='N', stopbits=1, timeout=None, xonxoff=False, rtscts=False, dsrdtr=False))"
      ]
     },
     "execution_count": 3,
     "metadata": {},
     "output_type": "execute_result"
    }
   ],
   "source": [
    "sp = SerialPort(\"/dev/ttyACM2\", 9600)"
   ]
  },
  {
   "cell_type": "code",
   "execution_count": 15,
   "metadata": {},
   "outputs": [
    {
     "ename": "LoadError",
     "evalue": "syntax: unexpected \"end\"",
     "output_type": "error",
     "traceback": [
      "syntax: unexpected \"end\"",
      ""
     ]
    }
   ],
   "source": [
    "a=0\n",
    "while a<50\n",
    "    bytesavailable(sp)\n",
    "    wait(1000)\n",
    "    a++\n",
    "end"
   ]
  },
  {
   "cell_type": "code",
   "execution_count": 9,
   "metadata": {},
   "outputs": [
    {
     "data": {
      "text/plain": [
       "\"71\\r\\n72\\r\\n73\\r\\n74\\r\\n75\\r\\n76\\r\\n77\\r\\n78\\r\\n79\\r\\n80\\r\\n81\\r\\n82\\r\\n83\\r\\n84\\r\\n85\\r\\n86\\r\\n87\\r\\n88\\r\\n89\\r\\n90\\r\\n91\\r\\n92\\r\\n93\\r\\n94\\r\\n95\\r\\n96\\r\\n97\\r\\n98\\r\\n99\\r\\n0\\r\\n1\\r\\n2\\r\\n3\\r\\n4\\r\\n5\\r\\n6\\r\\n7\\r\\n8\\r\\n9\\r\\n10\\r\\n11\\r\\n12\\r\\n13\\r\\n14\\r\\n15\\r\\n16\\r\\n17\\r\\n18\\r\\n19\\r\\n20\\r\\n21\\r\\n22\\r\\n23\\r\\n24\\r\\n25\\r\\n26\\r\\n27\\r\\n28\\r\\n29\\r\\n30\\r\\n31\\r\\n32\\r\\n33\\r\\n34\\r\\n35\\r\\n36\\r\\n37\\r\\n38\\r\\n39\\r\\n40\\r\\n41\\r\\n42\\r\\n43\\r\\n44\\r\\n45\\r\\n46\\r\\n47\\r\\n48\\r\\n49\\r\\n50\\r\\n51\\r\\n52\\r\\n53\\r\\n54\\r\\n55\\r\\n56\\r\\n57\\r\\n58\\r\\n59\\r\\n60\\r\\n61\\r\\n62\\r\\n63\\r\\n64\\r\\n65\\r\\n66\\r\\n67\\r\\n68\\r\\n69\\r\\n70\\r\\n71\\r\\n72\\r\\n73\\r\\n74\\r\\n75\\r\\n76\\r\\n77\\r\\n78\\r\\n79\\r\\n80\\r\\n81\\r\\n82\\r\\n83\\r\\n\""
      ]
     },
     "execution_count": 9,
     "metadata": {},
     "output_type": "execute_result"
    }
   ],
   "source": [
    "x = readavailable(sp) # read from the port"
   ]
  },
  {
   "cell_type": "code",
   "execution_count": 30,
   "metadata": {},
   "outputs": [
    {
     "data": {
      "text/plain": [
       "SerialPort(\"/dev/ttyACM1\", 9600, 8, \"N\", 1, nothing, false, false, false, PyObject Serial<id=0x7fc0ab7fdcf8, open=False>(port='/dev/ttyACM1', baudrate=9600, bytesize=8, parity='N', stopbits=1, timeout=None, xonxoff=False, rtscts=False, dsrdtr=False))"
      ]
     },
     "execution_count": 30,
     "metadata": {},
     "output_type": "execute_result"
    }
   ],
   "source": [
    "close(sp)"
   ]
  },
  {
   "cell_type": "code",
   "execution_count": 27,
   "metadata": {},
   "outputs": [],
   "source": [
    "print(x)"
   ]
  },
  {
   "cell_type": "code",
   "execution_count": 11,
   "metadata": {},
   "outputs": [
    {
     "data": {
      "text/plain": [
       "91"
      ]
     },
     "execution_count": 11,
     "metadata": {},
     "output_type": "execute_result"
    }
   ],
   "source": []
  },
  {
   "cell_type": "code",
   "execution_count": null,
   "metadata": {},
   "outputs": [],
   "source": []
  }
 ],
 "metadata": {
  "kernelspec": {
   "display_name": "Julia 1.1.1",
   "language": "julia",
   "name": "julia-1.1"
  },
  "language_info": {
   "file_extension": ".jl",
   "mimetype": "application/julia",
   "name": "julia",
   "version": "1.1.1"
  }
 },
 "nbformat": 4,
 "nbformat_minor": 2
}
